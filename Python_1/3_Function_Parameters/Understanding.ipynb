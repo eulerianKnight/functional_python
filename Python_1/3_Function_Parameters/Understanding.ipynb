{
 "cells": [
  {
   "cell_type": "markdown",
   "source": [
    "# Functions and Parameters"
   ],
   "metadata": {
    "collapsed": false
   },
   "id": "731653d5e152331c"
  },
  {
   "cell_type": "markdown",
   "source": [
    "## Argument vs Parameter\n",
    "\n",
    "- Consider the below function:\n",
    "```\n",
    "def my_func(a, b):\n",
    "    # Code here\n",
    "\n",
    "# Calling the function\n",
    "x = 10\n",
    "y = 'a'\n",
    "\n",
    "my_func(x, y)\n",
    "```\n",
    "- In the above case,`a` and `b` are called parameters of `my_func`. `a` and `b` are variables, local to `my_func`.\n",
    "- `x` and `y` are called the arguments of `my_func`. `x` and `y` are passed by reference i.e., the memory addresses of `x` and `y` are passed."
   ],
   "metadata": {
    "collapsed": false
   },
   "id": "a0b4a2cce6e75027"
  },
  {
   "cell_type": "markdown",
   "source": [
    "## Positional and Keyword Arguments\n",
    "\n",
    "- Most common way of assigning arguments to parameters: via the order in which they are passed i.e., their position.\n",
    "- A positional arguments can be made optional by specifying a default value for the corresponding parameter.\n",
    "- If a positional parameter is defined with a default value, every positional parameter after it must also be given a default value.\n",
    "- Positional arguments can, optionally be specified by using the parameter name whether the parameters have default values. But once you use a named argument, all arguments thereafter must be named too. Order of keyword arguments(named arguments) does not matter."
   ],
   "metadata": {
    "collapsed": false
   },
   "id": "9c2dcedcfae0a51b"
  },
  {
   "cell_type": "code",
   "execution_count": 5,
   "outputs": [],
   "source": [
    "def my_func(a, b, c):\n",
    "    print(f\"a: {a}\\n b: {b}\\n c: {c}\")"
   ],
   "metadata": {
    "collapsed": false,
    "ExecuteTime": {
     "end_time": "2023-10-30T04:16:44.195441Z",
     "start_time": "2023-10-30T04:16:44.178066200Z"
    }
   },
   "id": "a69070862313f860"
  },
  {
   "cell_type": "code",
   "execution_count": 6,
   "outputs": [
    {
     "name": "stdout",
     "output_type": "stream",
     "text": [
      "a: 1\n",
      " b: 2\n",
      " c: 3\n"
     ]
    }
   ],
   "source": [
    "my_func(1, 2, 3)"
   ],
   "metadata": {
    "collapsed": false,
    "ExecuteTime": {
     "end_time": "2023-10-30T04:16:44.481145300Z",
     "start_time": "2023-10-30T04:16:44.466876400Z"
    }
   },
   "id": "aaa77014269e3c91"
  },
  {
   "cell_type": "code",
   "execution_count": 7,
   "id": "initial_id",
   "metadata": {
    "collapsed": true,
    "ExecuteTime": {
     "end_time": "2023-10-30T04:17:02.834376Z",
     "start_time": "2023-10-30T04:17:02.635083Z"
    }
   },
   "outputs": [
    {
     "ename": "TypeError",
     "evalue": "my_func() missing 1 required positional argument: 'c'",
     "output_type": "error",
     "traceback": [
      "\u001B[1;31m---------------------------------------------------------------------------\u001B[0m",
      "\u001B[1;31mTypeError\u001B[0m                                 Traceback (most recent call last)",
      "Cell \u001B[1;32mIn[7], line 1\u001B[0m\n\u001B[1;32m----> 1\u001B[0m \u001B[43mmy_func\u001B[49m\u001B[43m(\u001B[49m\u001B[38;5;241;43m1\u001B[39;49m\u001B[43m,\u001B[49m\u001B[43m \u001B[49m\u001B[38;5;241;43m2\u001B[39;49m\u001B[43m)\u001B[49m\n",
      "\u001B[1;31mTypeError\u001B[0m: my_func() missing 1 required positional argument: 'c'"
     ]
    }
   ],
   "source": [
    "my_func(1, 2)"
   ]
  },
  {
   "cell_type": "code",
   "execution_count": 10,
   "outputs": [
    {
     "ename": "SyntaxError",
     "evalue": "non-default argument follows default argument (2528219320.py, line 2)",
     "output_type": "error",
     "traceback": [
      "\u001B[1;36m  Cell \u001B[1;32mIn[10], line 2\u001B[1;36m\u001B[0m\n\u001B[1;33m    def my_func(a, b=2, c):\u001B[0m\n\u001B[1;37m                        ^\u001B[0m\n\u001B[1;31mSyntaxError\u001B[0m\u001B[1;31m:\u001B[0m non-default argument follows default argument\n"
     ]
    }
   ],
   "source": [
    "# Create func with default argument\n",
    "def my_func(a, b=2, c):\n",
    "    print(f\"a: {a}\\n b: {b}\\n c: {c}\")\n",
    "    \n",
    "my_func(10, 20, 30)"
   ],
   "metadata": {
    "collapsed": false,
    "ExecuteTime": {
     "end_time": "2023-10-30T04:18:25.607572900Z",
     "start_time": "2023-10-30T04:18:25.591017600Z"
    }
   },
   "id": "a573f92254485702"
  },
  {
   "cell_type": "code",
   "execution_count": 9,
   "outputs": [
    {
     "name": "stdout",
     "output_type": "stream",
     "text": [
      "a: 10\n",
      " b: 20\n",
      " c: 30\n"
     ]
    }
   ],
   "source": [
    "# Fix it:Create func with default argument\n",
    "def my_func(a, b=2, c=3):\n",
    "    print(f\"a: {a}\\n b: {b}\\n c: {c}\")\n",
    "    \n",
    "my_func(10, 20, 30)"
   ],
   "metadata": {
    "collapsed": false,
    "ExecuteTime": {
     "end_time": "2023-10-30T04:18:15.503102600Z",
     "start_time": "2023-10-30T04:18:15.475063900Z"
    }
   },
   "id": "2a897b750cdf113f"
  },
  {
   "cell_type": "code",
   "execution_count": 11,
   "outputs": [
    {
     "name": "stdout",
     "output_type": "stream",
     "text": [
      "a: 10\n",
      " b: 20\n",
      " c: 3\n"
     ]
    }
   ],
   "source": [
    "my_func(10, 20)"
   ],
   "metadata": {
    "collapsed": false,
    "ExecuteTime": {
     "end_time": "2023-10-30T04:18:39.481847900Z",
     "start_time": "2023-10-30T04:18:39.454579700Z"
    }
   },
   "id": "1c127274e6c09898"
  },
  {
   "cell_type": "code",
   "execution_count": 12,
   "outputs": [
    {
     "name": "stdout",
     "output_type": "stream",
     "text": [
      "a: 10\n",
      " b: 2\n",
      " c: 3\n"
     ]
    }
   ],
   "source": [
    "my_func(10)"
   ],
   "metadata": {
    "collapsed": false,
    "ExecuteTime": {
     "end_time": "2023-10-30T04:18:48.892494200Z",
     "start_time": "2023-10-30T04:18:48.874411400Z"
    }
   },
   "id": "baf4f08076b288f3"
  },
  {
   "cell_type": "code",
   "execution_count": 13,
   "outputs": [
    {
     "name": "stdout",
     "output_type": "stream",
     "text": [
      "a: 10\n",
      " b: 20\n",
      " c: 30\n"
     ]
    }
   ],
   "source": [
    "# Calling function using named argument\n",
    "my_func(c=30, b=20, a=10)"
   ],
   "metadata": {
    "collapsed": false,
    "ExecuteTime": {
     "end_time": "2023-10-30T04:20:16.173753700Z",
     "start_time": "2023-10-30T04:20:16.125939300Z"
    }
   },
   "id": "23473e33561b1916"
  },
  {
   "cell_type": "code",
   "execution_count": 14,
   "outputs": [
    {
     "name": "stdout",
     "output_type": "stream",
     "text": [
      "a: 10\n",
      " b: 2\n",
      " c: 30\n"
     ]
    }
   ],
   "source": [
    "my_func(10, c=30)"
   ],
   "metadata": {
    "collapsed": false,
    "ExecuteTime": {
     "end_time": "2023-10-30T04:21:45.579872300Z",
     "start_time": "2023-10-30T04:21:45.560306800Z"
    }
   },
   "id": "a9eac472b407b5d6"
  },
  {
   "cell_type": "markdown",
   "source": [
    "## Unpacking Iterables\n",
    "\n",
    "- What defines a `tuple` in Python, is not `()` but `,`. `1, 2, 3` is also a tuple. The `()` are used to make the tuple clearer. To create a tuple with a single element: `(1)` will not return tuple but just an `int`. Instead, we need to write `1,`. The only exception is when creating an empty tuple. `()`.\n",
    "- Packed values refers to values that are bundled together in some way. Any *iterable* can be considered as packed values.\n",
    "    - Tuples and lists are obvious: `t = (1, 2, 3); l = [1, 2, 3]`\n",
    "    - Even a string is considered to be a packed value: `s = 'python'`\n",
    "    - Sets and dictionaries are also packed values: `set1 = {1, 2, 3}; d = {'a': 1, 'b': 2, 'c': 3}`\n",
    "- Unpacking is the act of splitting packed values into individual variables contained in a list or tuple. It is based on the relative positions of each element. `a, b, c = [1, 2, 3]`. three elements in [1, 2, 3] need three variables to unpack.\n",
    "- `a, b, c = 'XYZ' -> a = 'X; b = 'Y'; c = 'Z'`\n",
    "- Unpacking one iterable to another iterable. `a, b, c = 10, 20, 'hello'`\n",
    "- Unpacking works with any *iterable* type.\n",
    "- Swapping values of two variables using unpacking: `a, b = b, a`. This works because in Python, the entire RHS is evaluated first and completely then assignments are made to the LHS.\n",
    "- Dictionaries (and sets) are unordered types. They can be iterated but there is no guarantee the order of the results will match our keys. In practice, we rarely unpack sets and dictionaries in precisely this way."
   ],
   "metadata": {
    "collapsed": false
   },
   "id": "dcaae933b11d1330"
  },
  {
   "cell_type": "code",
   "execution_count": 15,
   "outputs": [
    {
     "data": {
      "text/plain": "tuple"
     },
     "execution_count": 15,
     "metadata": {},
     "output_type": "execute_result"
    }
   ],
   "source": [
    "a = (1, 2, 3)\n",
    "type(a)"
   ],
   "metadata": {
    "collapsed": false,
    "ExecuteTime": {
     "end_time": "2023-10-30T04:48:17.318587Z",
     "start_time": "2023-10-30T04:48:17.266348300Z"
    }
   },
   "id": "32ebb1779b6af135"
  },
  {
   "cell_type": "code",
   "execution_count": 16,
   "outputs": [
    {
     "data": {
      "text/plain": "tuple"
     },
     "execution_count": 16,
     "metadata": {},
     "output_type": "execute_result"
    }
   ],
   "source": [
    "a = 1, 2, 3\n",
    "type(a)"
   ],
   "metadata": {
    "collapsed": false,
    "ExecuteTime": {
     "end_time": "2023-10-30T04:48:30.293490600Z",
     "start_time": "2023-10-30T04:48:30.229122Z"
    }
   },
   "id": "f442c1f211e36646"
  },
  {
   "cell_type": "code",
   "execution_count": 17,
   "outputs": [
    {
     "data": {
      "text/plain": "int"
     },
     "execution_count": 17,
     "metadata": {},
     "output_type": "execute_result"
    }
   ],
   "source": [
    "a = (1)\n",
    "type(a)"
   ],
   "metadata": {
    "collapsed": false,
    "ExecuteTime": {
     "end_time": "2023-10-30T08:17:07.217094100Z",
     "start_time": "2023-10-30T08:17:07.194708Z"
    }
   },
   "id": "a61667ff628753d7"
  },
  {
   "cell_type": "code",
   "execution_count": 18,
   "outputs": [
    {
     "data": {
      "text/plain": "tuple"
     },
     "execution_count": 18,
     "metadata": {},
     "output_type": "execute_result"
    }
   ],
   "source": [
    "a = (1,)\n",
    "type(a)"
   ],
   "metadata": {
    "collapsed": false,
    "ExecuteTime": {
     "end_time": "2023-10-30T08:17:39.999288300Z",
     "start_time": "2023-10-30T08:17:39.964999800Z"
    }
   },
   "id": "12c742f5c685aad5"
  },
  {
   "cell_type": "code",
   "execution_count": 19,
   "outputs": [
    {
     "name": "stdout",
     "output_type": "stream",
     "text": [
      "1\n",
      "a\n",
      "3.1415926\n"
     ]
    }
   ],
   "source": [
    "a, b, c = [1, 'a', 3.1415926]\n",
    "print(a)\n",
    "print(b)\n",
    "print(c)"
   ],
   "metadata": {
    "collapsed": false,
    "ExecuteTime": {
     "end_time": "2023-10-30T08:20:36.118999400Z",
     "start_time": "2023-10-30T08:20:36.092983600Z"
    }
   },
   "id": "d7caa3d53258f15"
  },
  {
   "cell_type": "code",
   "execution_count": 20,
   "outputs": [
    {
     "name": "stdout",
     "output_type": "stream",
     "text": [
      "Before Swapping:\n",
      "a=10, b=20\n",
      "After Swapping:\n",
      "a=20, b=10\n"
     ]
    }
   ],
   "source": [
    "# Swap values of variables\n",
    "a, b = 10, 20\n",
    "print(f\"Before Swapping:\\na={a}, b={b}\")\n",
    "a, b = b, a\n",
    "print(f\"After Swapping:\\na={a}, b={b}\")"
   ],
   "metadata": {
    "collapsed": false,
    "ExecuteTime": {
     "end_time": "2023-10-30T08:24:41.225403300Z",
     "start_time": "2023-10-30T08:24:41.193719200Z"
    }
   },
   "id": "2f2b06c233d4ca3b"
  },
  {
   "cell_type": "code",
   "execution_count": 21,
   "outputs": [
    {
     "name": "stdout",
     "output_type": "stream",
     "text": [
      "X\n",
      "Y\n",
      "Z\n"
     ]
    }
   ],
   "source": [
    "# Iterating through string\n",
    "for e in 'XYZ':\n",
    "    print(e)"
   ],
   "metadata": {
    "collapsed": false,
    "ExecuteTime": {
     "end_time": "2023-10-30T08:27:41.091820300Z",
     "start_time": "2023-10-30T08:27:41.053261200Z"
    }
   },
   "id": "ecdc53cd0d7b4996"
  },
  {
   "cell_type": "code",
   "execution_count": 22,
   "outputs": [
    {
     "name": "stdout",
     "output_type": "stream",
     "text": [
      "a\n",
      "b\n",
      "c\n",
      "d\n"
     ]
    }
   ],
   "source": [
    "# Create a dictionary\n",
    "sample_dict = {'a': 1, 'b': 2, 'c': 3, 'd':4}\n",
    "a, b, c, d = sample_dict\n",
    "print(a)\n",
    "print(b)\n",
    "print(c)\n",
    "print(d)"
   ],
   "metadata": {
    "collapsed": false,
    "ExecuteTime": {
     "end_time": "2023-10-30T08:34:50.280034200Z",
     "start_time": "2023-10-30T08:34:50.216970300Z"
    }
   },
   "id": "3eb8a77f6225fa5a"
  },
  {
   "cell_type": "code",
   "execution_count": 24,
   "outputs": [
    {
     "name": "stdout",
     "output_type": "stream",
     "text": [
      "1\n",
      "2\n",
      "3\n",
      "4\n"
     ]
    }
   ],
   "source": [
    "for e in sample_dict.values():\n",
    "    print(e)"
   ],
   "metadata": {
    "collapsed": false,
    "ExecuteTime": {
     "end_time": "2023-10-30T08:35:58.973606200Z",
     "start_time": "2023-10-30T08:35:58.952507500Z"
    }
   },
   "id": "9a05781880e5a61b"
  },
  {
   "cell_type": "code",
   "execution_count": 25,
   "outputs": [
    {
     "name": "stdout",
     "output_type": "stream",
     "text": [
      "1\n",
      "2\n",
      "3\n",
      "4\n"
     ]
    }
   ],
   "source": [
    "a, b, c, d = sample_dict.values()\n",
    "print(a)\n",
    "print(b)\n",
    "print(c)\n",
    "print(d)"
   ],
   "metadata": {
    "collapsed": false,
    "ExecuteTime": {
     "end_time": "2023-10-30T08:36:32.268609100Z",
     "start_time": "2023-10-30T08:36:32.236405800Z"
    }
   },
   "id": "374f2c1488ab79c6"
  },
  {
   "cell_type": "code",
   "execution_count": 26,
   "outputs": [
    {
     "name": "stdout",
     "output_type": "stream",
     "text": [
      "('a', 1)\n",
      "('b', 2)\n",
      "('c', 3)\n",
      "('d', 4)\n"
     ]
    }
   ],
   "source": [
    "for e in sample_dict.items():\n",
    "    print(e)"
   ],
   "metadata": {
    "collapsed": false,
    "ExecuteTime": {
     "end_time": "2023-10-30T08:37:30.260637600Z",
     "start_time": "2023-10-30T08:37:30.195865200Z"
    }
   },
   "id": "1ff6f26d2dd046ca"
  },
  {
   "cell_type": "markdown",
   "source": [
    "## Extended Unpacking\n",
    "\n",
    "- We don't always want to unpack every single item in an iterable.\n",
    "- We may, for example, want to unpack the first value, and then unpack the remaining values into another variable.\n",
    "```\n",
    "l = [1, 2, 3, 4, 5, 6]\n",
    "a, b = l[0], l[1:]\n",
    "or\n",
    "a, *b = l\n",
    "```\n",
    "- '*' Operator works with any iterable not just sequence types. It can only be used once in the LHS as unpacking assignment.\n",
    "```\n",
    "l1 = [1, 2, 3]\n",
    "l2 = [4, 5, 6]\n",
    "l = [*l1, *l2]\n",
    "l -> [1, 2, 3, 4, 5, 6]\n",
    "```\n",
    "- Sets and dictionary keys are still iterables, but iterating has no guarantee of preserving the order in which the elements were created/added. But the * operator still works, since it works with any iterables. In practice, we rarely unpack sets and dictionaries directly in such a manner. However, it is useful though in a situation where we might want to create a single collection containing all the items of multiple sets, or all the keys of multiple dictionaries.\n",
    "- '**' operator is used for unpacking *key-values* pairs of a dictionary.\n",
    "```\n",
    "d1 = {'p': 1, 'y': 2}\n",
    "d2 = {'t': 3, 'h': 4}\n",
    "d3 = {'h': 5, 'o': 6, 'n': 7}\n",
    "\n",
    "d = {**d1, **d2, **d3}\n",
    "d -> {'p': 1, 'y': 2, 't': 3, 'h': 5, 'o': 6, 'n': 7}\n",
    "\n",
    "value of h is overwrote\n",
    "```\n",
    "- '**' can also be used to add key-value pairs from one or more dictionary into a dictionary literal.\n",
    "- Python supports nested unpacking as well.\n",
    "```\n",
    "l = [1, 2, [3, 4]]\n",
    "a, b, c = l\n",
    "-> a=1, b=2, c=[3, 4]\n",
    "```"
   ],
   "metadata": {
    "collapsed": false
   },
   "id": "93416cd81bac510c"
  },
  {
   "cell_type": "code",
   "execution_count": 1,
   "outputs": [
    {
     "name": "stdout",
     "output_type": "stream",
     "text": [
      "1\n",
      "[2, 3, 4, 5, 6]\n"
     ]
    }
   ],
   "source": [
    "l = [1, 2, 3, 4, 5, 6]\n",
    "a = l[0]\n",
    "b = l[1:]\n",
    "print(a)\n",
    "print(b)"
   ],
   "metadata": {
    "collapsed": false,
    "ExecuteTime": {
     "end_time": "2023-11-01T08:41:57.318484300Z",
     "start_time": "2023-11-01T08:41:57.298853100Z"
    }
   },
   "id": "33d86dc9446a62de"
  },
  {
   "cell_type": "code",
   "execution_count": 2,
   "outputs": [
    {
     "name": "stdout",
     "output_type": "stream",
     "text": [
      "1\n",
      "[2, 3, 4, 5, 6]\n"
     ]
    }
   ],
   "source": [
    "# Use Unpacking\n",
    "a, *b = l\n",
    "print(a)\n",
    "print(b)"
   ],
   "metadata": {
    "collapsed": false,
    "ExecuteTime": {
     "end_time": "2023-11-01T08:42:46.975410500Z",
     "start_time": "2023-11-01T08:42:46.943594300Z"
    }
   },
   "id": "bea189795425751c"
  },
  {
   "cell_type": "code",
   "execution_count": 3,
   "outputs": [
    {
     "name": "stdout",
     "output_type": "stream",
     "text": [
      "p\n",
      "['y', 't', 'h', 'o', 'n']\n"
     ]
    }
   ],
   "source": [
    "s = 'python'\n",
    "a, *b = s\n",
    "print(a)\n",
    "print(b)"
   ],
   "metadata": {
    "collapsed": false,
    "ExecuteTime": {
     "end_time": "2023-11-01T08:45:09.189172900Z",
     "start_time": "2023-11-01T08:45:09.156620200Z"
    }
   },
   "id": "6927037717720891"
  },
  {
   "cell_type": "code",
   "execution_count": 4,
   "outputs": [
    {
     "name": "stdout",
     "output_type": "stream",
     "text": [
      "p\n",
      "y\n",
      "['t', 'h', 'o', 'n']\n"
     ]
    }
   ],
   "source": [
    "s = 'python'\n",
    "a, b, *c = s\n",
    "print(a)\n",
    "print(b)\n",
    "print(c)"
   ],
   "metadata": {
    "collapsed": false,
    "ExecuteTime": {
     "end_time": "2023-11-01T08:48:29.804546400Z",
     "start_time": "2023-11-01T08:48:29.741876Z"
    }
   },
   "id": "1897b138deb69798"
  },
  {
   "cell_type": "code",
   "execution_count": 5,
   "outputs": [
    {
     "name": "stdout",
     "output_type": "stream",
     "text": [
      "p\n",
      "y\n",
      "['t', 'h', 'o']\n",
      "n\n"
     ]
    }
   ],
   "source": [
    "s = 'python'\n",
    "a, b, *c, d = s\n",
    "print(a)\n",
    "print(b)\n",
    "print(c)\n",
    "print(d)"
   ],
   "metadata": {
    "collapsed": false,
    "ExecuteTime": {
     "end_time": "2023-11-01T08:48:43.663245400Z",
     "start_time": "2023-11-01T08:48:43.629512Z"
    }
   },
   "id": "9132c2883f992497"
  },
  {
   "cell_type": "markdown",
   "source": [
    "## *args"
   ],
   "metadata": {
    "collapsed": false
   },
   "id": "828958cfec8b132b"
  },
  {
   "cell_type": "code",
   "execution_count": null,
   "outputs": [],
   "source": [],
   "metadata": {
    "collapsed": false
   },
   "id": "81faac91d7282549"
  }
 ],
 "metadata": {
  "kernelspec": {
   "display_name": "Python 3",
   "language": "python",
   "name": "python3"
  },
  "language_info": {
   "codemirror_mode": {
    "name": "ipython",
    "version": 2
   },
   "file_extension": ".py",
   "mimetype": "text/x-python",
   "name": "python",
   "nbconvert_exporter": "python",
   "pygments_lexer": "ipython2",
   "version": "2.7.6"
  }
 },
 "nbformat": 4,
 "nbformat_minor": 5
}
