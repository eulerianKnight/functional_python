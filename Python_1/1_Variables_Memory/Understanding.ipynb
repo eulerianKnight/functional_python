{
 "cells": [
  {
   "cell_type": "markdown",
   "source": [
    "# Variables and Memory"
   ],
   "metadata": {
    "collapsed": false
   },
   "id": "147ed312c3cd84eb"
  },
  {
   "cell_type": "markdown",
   "source": [
    "## Variables are memory references.\n",
    "\n",
    "- Memory can be considered as a series of slots or boxes that exist in our computer, and we can store and retrieve data from those slots.\n",
    "- For each of those slots, an address is needed which is referred to as *Memory Address*.\n",
    "- When an object is stored in *Memory Address*, it might use more than one slot based on the requirement of space for the data. \n",
    "- Objects can overflow from one slot to another and form a *heap* in the memory. Storing and retrieving object from heap is carried out by *Python Memory Manager*.\n",
    "- Consider the code: `my_var_1 = 10`. When the code is run, Python creates an object in the memory at some address (consider it '0x1000'). `my_var_1` is simply a name or alias for the memory address where the object is stored. It is said to be *reference* to the object at memory address '0x1000'.\n",
    "- In Python, `id()` can be used to find out the memory address referenced by a variable. It returns a base-10 number. It can be converted to hexadecimal, by using the `hex()` function."
   ],
   "metadata": {
    "collapsed": false
   },
   "id": "d96e15b5ec6e35a8"
  },
  {
   "cell_type": "code",
   "execution_count": 1,
   "id": "initial_id",
   "metadata": {
    "collapsed": true,
    "ExecuteTime": {
     "end_time": "2023-10-28T11:05:47.535358700Z",
     "start_time": "2023-10-28T11:05:46.819105500Z"
    }
   },
   "outputs": [
    {
     "name": "stdout",
     "output_type": "stream",
     "text": [
      "2845974594064\n"
     ]
    }
   ],
   "source": [
    "# Create a variable\n",
    "my_var = 10\n",
    "# Check the memory address of my_var\n",
    "print(id(my_var))"
   ]
  },
  {
   "cell_type": "code",
   "execution_count": 2,
   "outputs": [
    {
     "name": "stdout",
     "output_type": "stream",
     "text": [
      "0x296a14e0210\n"
     ]
    }
   ],
   "source": [
    "# Check the memory address in hexadecimal form\n",
    "print(hex(id(my_var)))"
   ],
   "metadata": {
    "collapsed": false,
    "ExecuteTime": {
     "end_time": "2023-10-28T11:05:47.566716700Z",
     "start_time": "2023-10-28T11:05:46.855280Z"
    }
   },
   "id": "66c42c0b527718e9"
  },
  {
   "cell_type": "code",
   "execution_count": 3,
   "outputs": [
    {
     "name": "stdout",
     "output_type": "stream",
     "text": [
      "2846051346480\n",
      "0x296a5e12830\n"
     ]
    }
   ],
   "source": [
    "greetings = \"Hello\"\n",
    "# Check memory address of `greetings`\n",
    "print(id(greetings))\n",
    "# Check memory address of `greetings` in hexadecimal\n",
    "print(hex(id(greetings)))"
   ],
   "metadata": {
    "collapsed": false,
    "ExecuteTime": {
     "end_time": "2023-10-28T11:05:47.645550100Z",
     "start_time": "2023-10-28T11:05:46.870897Z"
    }
   },
   "id": "28db0880a840afb6"
  },
  {
   "cell_type": "markdown",
   "source": [
    "### Reference Counting\n",
    "\n",
    "- Consider the code `my_var = 10`. *Python Memory Manager* creates a reference to a memory address with alias `my_var`. It asl means, that *reference count* of that memory address is 1. Consider following code `other=my_var`. In this case, the reference count of that memory address increases to 2.\n",
    "- Now, if `my_var` is deleted, then the reference counts for the memory address decrease to 1. And when `other` is deleted, then the reference count is 0. At this point, *Python Memory Manager* throws away the object, and the memory can be reused.\n",
    "- `sys.getrefcount()` can be used to get reference count. However, in this case, we are passing a variable(which is a reference) to method and that creates an extra reference. So, a downside is it increases the reference count by 1.\n",
    "- `ctypes.c_long.from_address().value` is another method to get the reference count. In this case, as we are directly passing the **memory address not the reference**, it does not increase reference count."
   ],
   "metadata": {
    "collapsed": false
   },
   "id": "32160ed349f7df8e"
  },
  {
   "cell_type": "code",
   "execution_count": 4,
   "outputs": [],
   "source": [
    "import sys\n",
    "import ctypes"
   ],
   "metadata": {
    "collapsed": false,
    "ExecuteTime": {
     "end_time": "2023-10-28T11:05:47.645550100Z",
     "start_time": "2023-10-28T11:05:46.902046900Z"
    }
   },
   "id": "aa601e512a627a9b"
  },
  {
   "cell_type": "code",
   "execution_count": 5,
   "outputs": [
    {
     "name": "stdout",
     "output_type": "stream",
     "text": [
      "2846050336448\n"
     ]
    }
   ],
   "source": [
    "# Create a list\n",
    "a = [1, 2, 3]\n",
    "print(id(a))"
   ],
   "metadata": {
    "collapsed": false,
    "ExecuteTime": {
     "end_time": "2023-10-28T11:05:47.645550100Z",
     "start_time": "2023-10-28T11:05:46.919174900Z"
    }
   },
   "id": "57c24ba7e559d858"
  },
  {
   "cell_type": "code",
   "execution_count": 6,
   "outputs": [
    {
     "data": {
      "text/plain": "2"
     },
     "execution_count": 6,
     "metadata": {},
     "output_type": "execute_result"
    }
   ],
   "source": [
    "# Get the reference count using sys module\n",
    "sys.getrefcount(a)"
   ],
   "metadata": {
    "collapsed": false,
    "ExecuteTime": {
     "end_time": "2023-10-28T11:05:47.645550100Z",
     "start_time": "2023-10-28T11:05:46.933709500Z"
    }
   },
   "id": "ae55ffbc57fb805a"
  },
  {
   "cell_type": "code",
   "execution_count": 7,
   "outputs": [
    {
     "data": {
      "text/plain": "1"
     },
     "execution_count": 7,
     "metadata": {},
     "output_type": "execute_result"
    }
   ],
   "source": [
    "# Get reference count using ctypes\n",
    "def ref_count(address: int):\n",
    "    return ctypes.c_long.from_address(address).value\n",
    "\n",
    "ref_count(id(a))"
   ],
   "metadata": {
    "collapsed": false,
    "ExecuteTime": {
     "end_time": "2023-10-28T11:05:47.645550100Z",
     "start_time": "2023-10-28T11:05:46.949447500Z"
    }
   },
   "id": "75175d8bbde7c9cd"
  },
  {
   "cell_type": "code",
   "execution_count": 8,
   "outputs": [
    {
     "data": {
      "text/plain": "2"
     },
     "execution_count": 8,
     "metadata": {},
     "output_type": "execute_result"
    }
   ],
   "source": [
    "# Try creating a new reference to the same address\n",
    "b = a\n",
    "# Check reference count of memory address referred by a\n",
    "ref_count(id(a))"
   ],
   "metadata": {
    "collapsed": false,
    "ExecuteTime": {
     "end_time": "2023-10-28T11:05:47.645550100Z",
     "start_time": "2023-10-28T11:05:46.965077800Z"
    }
   },
   "id": "742b6c5e3d0550d8"
  },
  {
   "cell_type": "code",
   "execution_count": 9,
   "outputs": [
    {
     "data": {
      "text/plain": "3"
     },
     "execution_count": 9,
     "metadata": {},
     "output_type": "execute_result"
    }
   ],
   "source": [
    "# Create a new reference\n",
    "c = a\n",
    "ref_count(id(a))"
   ],
   "metadata": {
    "collapsed": false,
    "ExecuteTime": {
     "end_time": "2023-10-28T11:05:47.645550100Z",
     "start_time": "2023-10-28T11:05:46.980701400Z"
    }
   },
   "id": "b2a82e2656c8ca7a"
  },
  {
   "cell_type": "code",
   "execution_count": 10,
   "outputs": [
    {
     "data": {
      "text/plain": "2"
     },
     "execution_count": 10,
     "metadata": {},
     "output_type": "execute_result"
    }
   ],
   "source": [
    "# Change the value of c to change the memory address\n",
    "c = 10\n",
    "ref_count(id(a))"
   ],
   "metadata": {
    "collapsed": false,
    "ExecuteTime": {
     "end_time": "2023-10-28T11:05:47.645550100Z",
     "start_time": "2023-10-28T11:05:46.996248700Z"
    }
   },
   "id": "3022ee05b3fc5d62"
  },
  {
   "cell_type": "code",
   "execution_count": 11,
   "outputs": [
    {
     "data": {
      "text/plain": "1"
     },
     "execution_count": 11,
     "metadata": {},
     "output_type": "execute_result"
    }
   ],
   "source": [
    "# Change the value of b to change the memory address\n",
    "b = None\n",
    "ref_count(id(a))"
   ],
   "metadata": {
    "collapsed": false,
    "ExecuteTime": {
     "end_time": "2023-10-28T11:05:47.645550100Z",
     "start_time": "2023-10-28T11:05:47.012952100Z"
    }
   },
   "id": "1d18a37ca39e380a"
  },
  {
   "cell_type": "code",
   "execution_count": 12,
   "outputs": [
    {
     "data": {
      "text/plain": "1"
     },
     "execution_count": 12,
     "metadata": {},
     "output_type": "execute_result"
    }
   ],
   "source": [
    "# Change value of a to change the memory address\n",
    "a_id = id(a)\n",
    "a = None\n",
    "ref_count(a_id)"
   ],
   "metadata": {
    "collapsed": false,
    "ExecuteTime": {
     "end_time": "2023-10-28T11:05:47.645550100Z",
     "start_time": "2023-10-28T11:05:47.027646600Z"
    }
   },
   "id": "34b2208dba557037"
  },
  {
   "cell_type": "markdown",
   "source": [
    "**As memory address of a is changed now, the initial object is removed by Python memory Manager and the memory is free for different use. However, we don't know where it is used, that's why Python returns an arbitrary 1 in the above case.**"
   ],
   "metadata": {
    "collapsed": false
   },
   "id": "4a1a16c781be30a"
  },
  {
   "cell_type": "markdown",
   "source": [
    "## Garbage Collection\n",
    "\n",
    "### Circular References\n",
    "\n",
    "- Consider a variable `my_var` and it points to `Object A`. Assume `Object A` has an instance `var_1` and it points to another `Object B`. At this stage, if `my_var` is modified or deleted then reference count of `Object A` is 0 and Python removes it. Due to this, reference count for `Object B` also becomes 0 and gets removed.\n",
    "- Assume `Object B` also has an instance `var_2` which points to `Object A` in a circular manner. In this case, even if `my_var` is modified and deleted, the reference count for `Object A` and `Object B` is still 1. They won't get destroyed. \n",
    "- This is known as **Circular Reference.** This can lead to **Memory Leak** as `my_var` is removed, still `Object A` and `Object B` are still there.\n",
    "- This is where *Garbage Collector* comes into play. GC will be able to identify the Circular Reference and destroys it.\n",
    "- *Garbage Collector* can be controlled programmatically using the **gc** module.\n",
    "- By default, *gc* is turned on, but it can be turned off if we are sure our code doesn't create circular references. It runs on its own periodically. It can be called it manually, and even do our own cleanup."
   ],
   "metadata": {
    "collapsed": false
   },
   "id": "be7817d2afa4985"
  },
  {
   "cell_type": "code",
   "execution_count": 13,
   "outputs": [],
   "source": [
    "import gc"
   ],
   "metadata": {
    "collapsed": false,
    "ExecuteTime": {
     "end_time": "2023-10-28T11:05:47.645550100Z",
     "start_time": "2023-10-28T11:05:47.043658700Z"
    }
   },
   "id": "616ea4e31d79292e"
  },
  {
   "cell_type": "code",
   "execution_count": 14,
   "outputs": [],
   "source": [
    "def object_by_id(object_id):\n",
    "    for obj in gc.get_objects():\n",
    "        if id(obj) == object_id:\n",
    "            return \"Object Exists\"\n",
    "    return \"Not Found\""
   ],
   "metadata": {
    "collapsed": false,
    "ExecuteTime": {
     "end_time": "2023-10-28T11:05:47.645550100Z",
     "start_time": "2023-10-28T11:05:47.059747700Z"
    }
   },
   "id": "3e42a678a2503f70"
  },
  {
   "cell_type": "code",
   "execution_count": 15,
   "outputs": [],
   "source": [
    "class A:\n",
    "    def __init__(self):\n",
    "        self.b = B(self)\n",
    "        print(f\"A: self: {hex(id(self))}, b: {hex(id(self.b))}\")"
   ],
   "metadata": {
    "collapsed": false,
    "ExecuteTime": {
     "end_time": "2023-10-28T11:05:47.645550100Z",
     "start_time": "2023-10-28T11:05:47.075759400Z"
    }
   },
   "id": "6d60dc5ccc462ea1"
  },
  {
   "cell_type": "code",
   "execution_count": 16,
   "outputs": [],
   "source": [
    "class B:\n",
    "    def __init__(self, a):\n",
    "        self.a = a\n",
    "        print(f\"B: self: {hex(id(self))}, a: {hex(id(self.a))}\")"
   ],
   "metadata": {
    "collapsed": false,
    "ExecuteTime": {
     "end_time": "2023-10-28T11:05:47.645550100Z",
     "start_time": "2023-10-28T11:05:47.092168300Z"
    }
   },
   "id": "11144ef838fc36c0"
  },
  {
   "cell_type": "code",
   "execution_count": 17,
   "outputs": [],
   "source": [
    "gc.disable()"
   ],
   "metadata": {
    "collapsed": false,
    "ExecuteTime": {
     "end_time": "2023-10-28T11:05:47.645550100Z",
     "start_time": "2023-10-28T11:05:47.108225100Z"
    }
   },
   "id": "ac9cf206a6a4d7a7"
  },
  {
   "cell_type": "code",
   "execution_count": 18,
   "outputs": [
    {
     "name": "stdout",
     "output_type": "stream",
     "text": [
      "B: self: 0x296a5e30880, a: 0x296a5e30cd0\n",
      "A: self: 0x296a5e30cd0, b: 0x296a5e30880\n"
     ]
    }
   ],
   "source": [
    "my_var = A()"
   ],
   "metadata": {
    "collapsed": false,
    "ExecuteTime": {
     "end_time": "2023-10-28T11:05:47.645550100Z",
     "start_time": "2023-10-28T11:05:47.123287200Z"
    }
   },
   "id": "a13008b5c6b6e3d6"
  },
  {
   "cell_type": "code",
   "execution_count": 19,
   "outputs": [
    {
     "data": {
      "text/plain": "'0x296a5e30cd0'"
     },
     "execution_count": 19,
     "metadata": {},
     "output_type": "execute_result"
    }
   ],
   "source": [
    "hex(id(my_var))"
   ],
   "metadata": {
    "collapsed": false,
    "ExecuteTime": {
     "end_time": "2023-10-28T11:05:47.645550100Z",
     "start_time": "2023-10-28T11:05:47.138985800Z"
    }
   },
   "id": "8e57e45bfb7e52ed"
  },
  {
   "cell_type": "markdown",
   "source": [
    "## Dynamic vs Static Typing\n",
    "\n",
    "- Some languages (Java, C++, Swift) are statically typed.\n",
    "- Consider code in Java: `String myVar = \"hello\";`. A String literal \"hello\" is created in memory as an object with some memory address. `myVar` has been declared as a string and cannot be assigned the integer value later.\n",
    "- Python, in contrast, is dynamically typed.\n",
    "- In Python, `my_var = 'hello';`, `my_var` is purely a reference to a string object with value hello. No type is 'attached' to `my_var`.\n",
    "- In Python, variables do not have an inherent static type. When `type(my_var)` is called, Python looks up the object `my_var` is referencing(pointing to), and returns the type of the object at that memory location."
   ],
   "metadata": {
    "collapsed": false
   },
   "id": "b4220d7a9d7e7041"
  },
  {
   "cell_type": "code",
   "execution_count": 20,
   "outputs": [
    {
     "data": {
      "text/plain": "str"
     },
     "execution_count": 20,
     "metadata": {},
     "output_type": "execute_result"
    }
   ],
   "source": [
    "a = \"hello\"\n",
    "type(a)"
   ],
   "metadata": {
    "collapsed": false,
    "ExecuteTime": {
     "end_time": "2023-10-28T11:05:47.645550100Z",
     "start_time": "2023-10-28T11:05:47.155467200Z"
    }
   },
   "id": "fd7ba32dad9ddc8"
  },
  {
   "cell_type": "code",
   "execution_count": 21,
   "outputs": [
    {
     "data": {
      "text/plain": "int"
     },
     "execution_count": 21,
     "metadata": {},
     "output_type": "execute_result"
    }
   ],
   "source": [
    "a = 10\n",
    "type(a)"
   ],
   "metadata": {
    "collapsed": false,
    "ExecuteTime": {
     "end_time": "2023-10-28T11:05:47.645550100Z",
     "start_time": "2023-10-28T11:05:47.171929400Z"
    }
   },
   "id": "a0d8ef1d44494130"
  },
  {
   "cell_type": "code",
   "execution_count": 22,
   "outputs": [
    {
     "data": {
      "text/plain": "function"
     },
     "execution_count": 22,
     "metadata": {},
     "output_type": "execute_result"
    }
   ],
   "source": [
    "a = lambda x: x**2\n",
    "type(a)"
   ],
   "metadata": {
    "collapsed": false,
    "ExecuteTime": {
     "end_time": "2023-10-28T11:05:47.645550100Z",
     "start_time": "2023-10-28T11:05:47.187370400Z"
    }
   },
   "id": "a36fe451fab3a3c9"
  },
  {
   "cell_type": "code",
   "execution_count": 23,
   "outputs": [
    {
     "data": {
      "text/plain": "complex"
     },
     "execution_count": 23,
     "metadata": {},
     "output_type": "execute_result"
    }
   ],
   "source": [
    "a = 3 + 4j\n",
    "type(a)"
   ],
   "metadata": {
    "collapsed": false,
    "ExecuteTime": {
     "end_time": "2023-10-28T11:05:47.645550100Z",
     "start_time": "2023-10-28T11:05:47.203445100Z"
    }
   },
   "id": "6e94c6292c3994c2"
  },
  {
   "cell_type": "markdown",
   "source": [
    "## Object Mutability\n",
    "\n",
    "- Consider an object in memory.\n",
    "- Changing the data inside the object is called modifying the internal state of the object. That doesn't change the memory address. \n",
    "- An Object whose internal state can be changed, is called **Mutable**. An object whose internal state cannot be changed, is called **Immutable**.\n",
    "- Immutable\n",
    "    - Numbers (int, float, booleans, etc.)\n",
    "    - Strings\n",
    "    - Tuples\n",
    "    - Frozen Sets\n",
    "    - User-Defined Classes can be immutable if created in a way.\n",
    "- Mutable\n",
    "    - Lists\n",
    "    - Sets\n",
    "    - Dictionaries\n",
    "    - User-Defined Classes can be mutable if created in a way.\n",
    "- Consider a tuple of integers: `t = (1, 2, 3)`. Tuples are immutable: elements cannot be deleted, inserted or replaced. In this case, both the container (tuple) and all its elements (ints) are immutable.\n",
    "- Now, consider following: `a = [1, 2], b = [3, 4], t = (a, b), a.append(3), b.append(5)` Now t will be `([1, 2, 3], [3, 4, 5])`. As Lists are mutable: elements can be deleted, inserted, or replaced. The Tuple changes. In this case, although the tuple is immutable, its elements are not. The object references in the tuple did not change, but the referenced objects did mutate."
   ],
   "metadata": {
    "collapsed": false
   },
   "id": "403f3524edc18ffe"
  },
  {
   "cell_type": "code",
   "execution_count": 24,
   "outputs": [
    {
     "data": {
      "text/plain": "list"
     },
     "execution_count": 24,
     "metadata": {},
     "output_type": "execute_result"
    }
   ],
   "source": [
    "my_list = [1, 2, 3]\n",
    "type(my_list)"
   ],
   "metadata": {
    "collapsed": false,
    "ExecuteTime": {
     "end_time": "2023-10-28T11:05:47.645550100Z",
     "start_time": "2023-10-28T11:05:47.219994700Z"
    }
   },
   "id": "763c44fcde1e5d3a"
  },
  {
   "cell_type": "code",
   "execution_count": 25,
   "outputs": [
    {
     "data": {
      "text/plain": "2846050634560"
     },
     "execution_count": 25,
     "metadata": {},
     "output_type": "execute_result"
    }
   ],
   "source": [
    "id(my_list)"
   ],
   "metadata": {
    "collapsed": false,
    "ExecuteTime": {
     "end_time": "2023-10-28T11:05:47.645550100Z",
     "start_time": "2023-10-28T11:05:47.234600800Z"
    }
   },
   "id": "98cafd438b38a785"
  },
  {
   "cell_type": "code",
   "execution_count": 26,
   "outputs": [
    {
     "data": {
      "text/plain": "[1, 2, 3, 4]"
     },
     "execution_count": 26,
     "metadata": {},
     "output_type": "execute_result"
    }
   ],
   "source": [
    "my_list.append(4)\n",
    "my_list"
   ],
   "metadata": {
    "collapsed": false,
    "ExecuteTime": {
     "end_time": "2023-10-28T11:05:47.645550100Z",
     "start_time": "2023-10-28T11:05:47.250350200Z"
    }
   },
   "id": "bd56097d3636b0b4"
  },
  {
   "cell_type": "code",
   "execution_count": 27,
   "outputs": [
    {
     "data": {
      "text/plain": "2846050634560"
     },
     "execution_count": 27,
     "metadata": {},
     "output_type": "execute_result"
    }
   ],
   "source": [
    "id(my_list)"
   ],
   "metadata": {
    "collapsed": false,
    "ExecuteTime": {
     "end_time": "2023-10-28T11:05:47.645550100Z",
     "start_time": "2023-10-28T11:05:47.266395200Z"
    }
   },
   "id": "7e3be0a5ab036ef"
  },
  {
   "cell_type": "code",
   "execution_count": 28,
   "outputs": [
    {
     "data": {
      "text/plain": "2846051230848"
     },
     "execution_count": 28,
     "metadata": {},
     "output_type": "execute_result"
    }
   ],
   "source": [
    "my_list_1 = [1, 2, 3]\n",
    "id(my_list_1)"
   ],
   "metadata": {
    "collapsed": false,
    "ExecuteTime": {
     "end_time": "2023-10-28T11:05:47.645550100Z",
     "start_time": "2023-10-28T11:05:47.283085900Z"
    }
   },
   "id": "87e1b4f5e6d714fa"
  },
  {
   "cell_type": "code",
   "execution_count": 29,
   "outputs": [
    {
     "data": {
      "text/plain": "[1, 2, 3, 4]"
     },
     "execution_count": 29,
     "metadata": {},
     "output_type": "execute_result"
    }
   ],
   "source": [
    "my_list_1 = my_list_1 + [4]\n",
    "my_list_1"
   ],
   "metadata": {
    "collapsed": false,
    "ExecuteTime": {
     "end_time": "2023-10-28T11:05:47.645550100Z",
     "start_time": "2023-10-28T11:05:47.298117800Z"
    }
   },
   "id": "220465a01aadbd85"
  },
  {
   "cell_type": "code",
   "execution_count": 30,
   "outputs": [
    {
     "data": {
      "text/plain": "2846051407808"
     },
     "execution_count": 30,
     "metadata": {},
     "output_type": "execute_result"
    }
   ],
   "source": [
    "id(my_list_1)"
   ],
   "metadata": {
    "collapsed": false,
    "ExecuteTime": {
     "end_time": "2023-10-28T11:05:47.645550100Z",
     "start_time": "2023-10-28T11:05:47.315550700Z"
    }
   },
   "id": "f1b2a70c890d2f83"
  },
  {
   "cell_type": "code",
   "execution_count": 31,
   "outputs": [
    {
     "data": {
      "text/plain": "{'key1': 1, 'key2': 'a'}"
     },
     "execution_count": 31,
     "metadata": {},
     "output_type": "execute_result"
    }
   ],
   "source": [
    "my_dict = dict(key1=1, key2='a')\n",
    "my_dict"
   ],
   "metadata": {
    "collapsed": false,
    "ExecuteTime": {
     "end_time": "2023-10-28T11:05:47.645550100Z",
     "start_time": "2023-10-28T11:05:47.329604500Z"
    }
   },
   "id": "63f2c315a4bb5e0d"
  },
  {
   "cell_type": "code",
   "execution_count": 32,
   "outputs": [
    {
     "data": {
      "text/plain": "2846051228992"
     },
     "execution_count": 32,
     "metadata": {},
     "output_type": "execute_result"
    }
   ],
   "source": [
    "id(my_dict)"
   ],
   "metadata": {
    "collapsed": false,
    "ExecuteTime": {
     "end_time": "2023-10-28T11:05:47.645550100Z",
     "start_time": "2023-10-28T11:05:47.345268700Z"
    }
   },
   "id": "72e092cefedf05c3"
  },
  {
   "cell_type": "code",
   "execution_count": 33,
   "outputs": [
    {
     "data": {
      "text/plain": "{'key1': 1, 'key2': 'a', 'key3': 10.5}"
     },
     "execution_count": 33,
     "metadata": {},
     "output_type": "execute_result"
    }
   ],
   "source": [
    "my_dict['key3'] = 10.5\n",
    "my_dict"
   ],
   "metadata": {
    "collapsed": false,
    "ExecuteTime": {
     "end_time": "2023-10-28T11:05:47.645550100Z",
     "start_time": "2023-10-28T11:05:47.360969800Z"
    }
   },
   "id": "ccaec9f5a82f02dc"
  },
  {
   "cell_type": "code",
   "execution_count": 34,
   "outputs": [
    {
     "data": {
      "text/plain": "2846051228992"
     },
     "execution_count": 34,
     "metadata": {},
     "output_type": "execute_result"
    }
   ],
   "source": [
    "id(my_dict)"
   ],
   "metadata": {
    "collapsed": false,
    "ExecuteTime": {
     "end_time": "2023-10-28T11:05:47.645550100Z",
     "start_time": "2023-10-28T11:05:47.377772400Z"
    }
   },
   "id": "41f3421362e63de7"
  },
  {
   "cell_type": "code",
   "execution_count": 35,
   "outputs": [
    {
     "data": {
      "text/plain": "2846051353088"
     },
     "execution_count": 35,
     "metadata": {},
     "output_type": "execute_result"
    }
   ],
   "source": [
    "t = (1, 2, 3)\n",
    "id(t)"
   ],
   "metadata": {
    "collapsed": false,
    "ExecuteTime": {
     "end_time": "2023-10-28T11:05:47.645550100Z",
     "start_time": "2023-10-28T11:05:47.392307500Z"
    }
   },
   "id": "c4dca6275f516f76"
  },
  {
   "cell_type": "code",
   "execution_count": 36,
   "outputs": [
    {
     "data": {
      "text/plain": "1"
     },
     "execution_count": 36,
     "metadata": {},
     "output_type": "execute_result"
    }
   ],
   "source": [
    "t[0]"
   ],
   "metadata": {
    "collapsed": false,
    "ExecuteTime": {
     "end_time": "2023-10-28T11:05:47.645550100Z",
     "start_time": "2023-10-28T11:05:47.408944600Z"
    }
   },
   "id": "65c9e1dbae510921"
  },
  {
   "cell_type": "code",
   "execution_count": 37,
   "outputs": [
    {
     "data": {
      "text/plain": "2845974593776"
     },
     "execution_count": 37,
     "metadata": {},
     "output_type": "execute_result"
    }
   ],
   "source": [
    "id(t[0])"
   ],
   "metadata": {
    "collapsed": false,
    "ExecuteTime": {
     "end_time": "2023-10-28T11:05:47.645550100Z",
     "start_time": "2023-10-28T11:05:47.423996100Z"
    }
   },
   "id": "6bd13ae60b94abda"
  },
  {
   "cell_type": "code",
   "execution_count": 38,
   "outputs": [
    {
     "data": {
      "text/plain": "2845974593808"
     },
     "execution_count": 38,
     "metadata": {},
     "output_type": "execute_result"
    }
   ],
   "source": [
    "id(t[1])"
   ],
   "metadata": {
    "collapsed": false,
    "ExecuteTime": {
     "end_time": "2023-10-28T11:05:47.645550100Z",
     "start_time": "2023-10-28T11:05:47.440472800Z"
    }
   },
   "id": "a01f5ab88b839e67"
  },
  {
   "cell_type": "code",
   "execution_count": 39,
   "outputs": [
    {
     "data": {
      "text/plain": "2846050330240"
     },
     "execution_count": 39,
     "metadata": {},
     "output_type": "execute_result"
    }
   ],
   "source": [
    "t = ([1, 2], [3, 4])\n",
    "id(t)"
   ],
   "metadata": {
    "collapsed": false,
    "ExecuteTime": {
     "end_time": "2023-10-28T11:05:47.645550100Z",
     "start_time": "2023-10-28T11:05:47.456614100Z"
    }
   },
   "id": "57dccba340d4351b"
  },
  {
   "cell_type": "code",
   "execution_count": 40,
   "outputs": [
    {
     "data": {
      "text/plain": "[1, 2]"
     },
     "execution_count": 40,
     "metadata": {},
     "output_type": "execute_result"
    }
   ],
   "source": [
    "t[0]"
   ],
   "metadata": {
    "collapsed": false,
    "ExecuteTime": {
     "end_time": "2023-10-28T11:05:47.645550100Z",
     "start_time": "2023-10-28T11:05:47.471719500Z"
    }
   },
   "id": "7fefd3e3bd6b7721"
  },
  {
   "cell_type": "code",
   "execution_count": 41,
   "outputs": [
    {
     "data": {
      "text/plain": "[3, 4]"
     },
     "execution_count": 41,
     "metadata": {},
     "output_type": "execute_result"
    }
   ],
   "source": [
    "t[1]"
   ],
   "metadata": {
    "collapsed": false,
    "ExecuteTime": {
     "end_time": "2023-10-28T11:05:47.920607100Z",
     "start_time": "2023-10-28T11:05:47.488265900Z"
    }
   },
   "id": "f693460c68258588"
  },
  {
   "cell_type": "code",
   "execution_count": 42,
   "outputs": [
    {
     "data": {
      "text/plain": "([1, 2, 3], [3, 4])"
     },
     "execution_count": 42,
     "metadata": {},
     "output_type": "execute_result"
    }
   ],
   "source": [
    "t[0].append(3)\n",
    "t"
   ],
   "metadata": {
    "collapsed": false,
    "ExecuteTime": {
     "end_time": "2023-10-28T11:05:47.920607100Z",
     "start_time": "2023-10-28T11:05:47.503375500Z"
    }
   },
   "id": "3a4b22bfe84f023b"
  },
  {
   "cell_type": "markdown",
   "source": [
    "## Function Arguments and Mutability\n",
    "\n",
    "- Once a string has been created, the contents of the object can never be changed. Consider an example: `my_var = 'hello`. The only way to modify the \"value\" of `my_var` is to re-assign my_var to another object.\n",
    "- Immutable objects are safe from unintended side-effects.\n",
    "- Consider below code:\n",
    "```\n",
    "def process(s):\n",
    "    s = s + ' world'\n",
    "    return s\n",
    "\n",
    "my_var = 'hello'\n",
    "process(my_var)\n",
    "```\n",
    "- When function `process(my_var)` is called, `my_var's` reference is passed to `process()`. `process()` scope stores the reference in the variable 's'. When code line `s = s + ' world'` is run, the reference to `process()` scope is changed to another memory address with `Hello World`. The memory address of `my_var` doesn't change. It happens because `str` is immutable and hence the only way to modify `s` is by creating a new memory address and referencing to it.\n",
    "- Mutable objects are not safe from unintended side-effects.\n",
    "- Consider below code:\n",
    "```\n",
    "def process(lst):\n",
    "    lst.append(100)\n",
    "\n",
    "my_list = [1, 2, 3]\n",
    "\n",
    "process(my_list)\n",
    "```\n",
    "- `my_list's` reference is passed to `process()`. When `process(my_list)` is called, lst in `process()` scope refers to the memory address to `[1, 2, 3]` where initially `my_list` refers to. However, when `lst.append(100)`, it changes the list `[1, 2, 3]` to `[1, 2, 3, 100]`, the memory address still remains the same. Hence, the value of `my_list` changes to `[1, 2, 3, 100]` as the memory address hasn't changed. This is the side effect as the state of the variable changes."
   ],
   "metadata": {
    "collapsed": false
   },
   "id": "540e010cb1faf1d9"
  },
  {
   "cell_type": "code",
   "execution_count": 43,
   "outputs": [],
   "source": [
    "def process(s):\n",
    "    print(f\"Initial s # = {id(s)}\")\n",
    "    s = s + ' world'\n",
    "    print(f\"Final s # = {id(s)}\")"
   ],
   "metadata": {
    "collapsed": false,
    "ExecuteTime": {
     "end_time": "2023-10-28T11:05:47.920607100Z",
     "start_time": "2023-10-28T11:05:47.520821900Z"
    }
   },
   "id": "c351c2d94fd90771"
  },
  {
   "cell_type": "code",
   "execution_count": 44,
   "outputs": [
    {
     "name": "stdout",
     "output_type": "stream",
     "text": [
      "my_var # = 2846047011696\n"
     ]
    }
   ],
   "source": [
    "my_var = 'hello'\n",
    "print(f\"my_var # = {id(my_var)}\")"
   ],
   "metadata": {
    "collapsed": false,
    "ExecuteTime": {
     "end_time": "2023-10-28T11:05:47.920607100Z",
     "start_time": "2023-10-28T11:05:47.535358700Z"
    }
   },
   "id": "f527de22aabdb8b6"
  },
  {
   "cell_type": "code",
   "execution_count": 45,
   "outputs": [
    {
     "name": "stdout",
     "output_type": "stream",
     "text": [
      "Initial s # = 2846047011696\n",
      "Final s # = 2846051404400\n"
     ]
    }
   ],
   "source": [
    "process(my_var)"
   ],
   "metadata": {
    "collapsed": false,
    "ExecuteTime": {
     "end_time": "2023-10-28T11:05:47.920607100Z",
     "start_time": "2023-10-28T11:05:47.551023300Z"
    }
   },
   "id": "f94083cef42bf689"
  },
  {
   "cell_type": "code",
   "execution_count": 46,
   "outputs": [
    {
     "data": {
      "text/plain": "'hello'"
     },
     "execution_count": 46,
     "metadata": {},
     "output_type": "execute_result"
    }
   ],
   "source": [
    "my_var"
   ],
   "metadata": {
    "collapsed": false,
    "ExecuteTime": {
     "end_time": "2023-10-28T11:05:47.948612200Z",
     "start_time": "2023-10-28T11:05:47.566716700Z"
    }
   },
   "id": "db0e8d2aca40983a"
  },
  {
   "cell_type": "code",
   "execution_count": 47,
   "outputs": [],
   "source": [
    "def modify_list(lst):\n",
    "    print(f\"Initial lst # = {id(lst)}\")\n",
    "    lst.append(100)\n",
    "    print(f\"Final lst # = {id(lst)}\")"
   ],
   "metadata": {
    "collapsed": false,
    "ExecuteTime": {
     "end_time": "2023-10-28T11:05:47.948612200Z",
     "start_time": "2023-10-28T11:05:47.582278100Z"
    }
   },
   "id": "24368838b9c767f1"
  },
  {
   "cell_type": "code",
   "execution_count": 48,
   "outputs": [
    {
     "data": {
      "text/plain": "2846051404416"
     },
     "execution_count": 48,
     "metadata": {},
     "output_type": "execute_result"
    }
   ],
   "source": [
    "my_list = [1, 2, 3]\n",
    "id(my_list)"
   ],
   "metadata": {
    "collapsed": false,
    "ExecuteTime": {
     "end_time": "2023-10-28T11:05:47.948612200Z",
     "start_time": "2023-10-28T11:05:47.597900400Z"
    }
   },
   "id": "1144502cda02cf75"
  },
  {
   "cell_type": "code",
   "execution_count": 49,
   "outputs": [
    {
     "name": "stdout",
     "output_type": "stream",
     "text": [
      "Initial lst # = 2846051404416\n",
      "Final lst # = 2846051404416\n"
     ]
    }
   ],
   "source": [
    "modify_list(my_list)"
   ],
   "metadata": {
    "collapsed": false,
    "ExecuteTime": {
     "end_time": "2023-10-28T11:05:47.948612200Z",
     "start_time": "2023-10-28T11:05:47.613601100Z"
    }
   },
   "id": "8f6bb4a23d30b198"
  },
  {
   "cell_type": "code",
   "execution_count": 50,
   "outputs": [],
   "source": [
    "def modify_tuple(t):\n",
    "    print(f\"Initial t # = {id(t)}\")\n",
    "    t[0].append(100)\n",
    "    print(f\"Final t # = {id(t)}\")"
   ],
   "metadata": {
    "collapsed": false,
    "ExecuteTime": {
     "end_time": "2023-10-28T11:05:47.950776Z",
     "start_time": "2023-10-28T11:05:47.629818Z"
    }
   },
   "id": "3883ccd9accb4856"
  },
  {
   "cell_type": "code",
   "execution_count": 51,
   "outputs": [
    {
     "data": {
      "text/plain": "2846051349376"
     },
     "execution_count": 51,
     "metadata": {},
     "output_type": "execute_result"
    }
   ],
   "source": [
    "my_tuple = ([1, 2], 'a')\n",
    "id(my_tuple)"
   ],
   "metadata": {
    "collapsed": false,
    "ExecuteTime": {
     "end_time": "2023-10-28T11:05:48.136427800Z",
     "start_time": "2023-10-28T11:05:47.645550100Z"
    }
   },
   "id": "17e6d01b31ba95e3"
  },
  {
   "cell_type": "code",
   "execution_count": 52,
   "outputs": [
    {
     "name": "stdout",
     "output_type": "stream",
     "text": [
      "Initial t # = 2846051349376\n",
      "Final t # = 2846051349376\n"
     ]
    }
   ],
   "source": [
    "modify_tuple(my_tuple)"
   ],
   "metadata": {
    "collapsed": false,
    "ExecuteTime": {
     "end_time": "2023-10-28T11:05:48.137331Z",
     "start_time": "2023-10-28T11:05:47.662218400Z"
    }
   },
   "id": "b6d4e79b192b3123"
  },
  {
   "cell_type": "code",
   "execution_count": 53,
   "outputs": [
    {
     "data": {
      "text/plain": "([1, 2, 100], 'a')"
     },
     "execution_count": 53,
     "metadata": {},
     "output_type": "execute_result"
    }
   ],
   "source": [
    "my_tuple"
   ],
   "metadata": {
    "collapsed": false,
    "ExecuteTime": {
     "end_time": "2023-10-28T11:05:48.141739400Z",
     "start_time": "2023-10-28T11:05:47.679381900Z"
    }
   },
   "id": "c646235096d881e4"
  },
  {
   "cell_type": "markdown",
   "source": [
    "## Shared References and Mutability\n",
    "\n",
    "- The term *Shared Reference* is the concept of two variables referencing the same object in memory, i.e., having the same memory address.\n",
    "- Consider code: `a = 10; b = 10; s1 = 'hello'; s2 = 'hello';`\n",
    "    - In both cases above, Python's memory manager decides to automatically re-use the memory referenced. a and b both will refer to the same memory address; s1 and s2 will refer to the same memory address.\n",
    "- With mutable objects, Python memory manager will never create shared references. Consider code `a=[1, 2, 3]; b=[1, 2, 3]`. In this case Python memory manager will create separate memory address for `a` and `b` even though they have same value."
   ],
   "metadata": {
    "collapsed": false
   },
   "id": "fac981c0be857740"
  },
  {
   "cell_type": "code",
   "execution_count": 54,
   "outputs": [
    {
     "data": {
      "text/plain": "('0x296a59f0370', '0x296a59f0370')"
     },
     "execution_count": 54,
     "metadata": {},
     "output_type": "execute_result"
    }
   ],
   "source": [
    "a = \"hello\"\n",
    "b = a\n",
    "hex(id(a)), hex(id(b))"
   ],
   "metadata": {
    "collapsed": false,
    "ExecuteTime": {
     "end_time": "2023-10-28T11:05:48.141739400Z",
     "start_time": "2023-10-28T11:05:47.693438100Z"
    }
   },
   "id": "c71bc273105dba0"
  },
  {
   "cell_type": "code",
   "execution_count": 55,
   "outputs": [
    {
     "data": {
      "text/plain": "('0x296a5e46370', '0x296a5e46370')"
     },
     "execution_count": 55,
     "metadata": {},
     "output_type": "execute_result"
    }
   ],
   "source": [
    "a = \"harry\"\n",
    "b = \"harry\"\n",
    "hex(id(a)), hex(id(b))"
   ],
   "metadata": {
    "collapsed": false,
    "ExecuteTime": {
     "end_time": "2023-10-28T11:05:48.141739400Z",
     "start_time": "2023-10-28T11:05:47.709227700Z"
    }
   },
   "id": "3abd131cc173bcca"
  },
  {
   "cell_type": "code",
   "execution_count": 56,
   "outputs": [
    {
     "data": {
      "text/plain": "([1, 2, 3, 100], [1, 2, 3, 100])"
     },
     "execution_count": 56,
     "metadata": {},
     "output_type": "execute_result"
    }
   ],
   "source": [
    "a = [1, 2, 3]\n",
    "b = a\n",
    "b.append(100)\n",
    "b, a"
   ],
   "metadata": {
    "collapsed": false,
    "ExecuteTime": {
     "end_time": "2023-10-28T11:05:48.141739400Z",
     "start_time": "2023-10-28T11:05:47.727853500Z"
    }
   },
   "id": "429472f84728068a"
  },
  {
   "cell_type": "markdown",
   "source": [
    "## Variable Equality\n",
    "\n",
    "- Variable equality can be thought in two fundamental ways:\n",
    "    - Memory Address: `is` identity operator is used. `var_1 is var_2`. Negation: `var_1 is not var_2`\n",
    "    - Object State (data): `==` equality operator is used. `var_1 == var_2`. Negation: `var_1 != var_2`\n",
    "- The `None` object can be assigned to variables to indicate that they are not set (in the way we expect them to be) i.e., an \"empty\" value (or null pointer).\n",
    "- But the `None` object is a real object managed by the Python Memory Manager. The Memory Manager will always use a shared reference when assigning a variable to `None`. Hence, we can test if a variable is \"not set\" or \"empty\" by comparing it's memory address to the memory address of \"None\" using the `is` operator."
   ],
   "metadata": {
    "collapsed": false
   },
   "id": "7aa1b6c17c7e66bf"
  },
  {
   "cell_type": "code",
   "execution_count": 57,
   "outputs": [
    {
     "data": {
      "text/plain": "(2845974594064, 2845974594064)"
     },
     "execution_count": 57,
     "metadata": {},
     "output_type": "execute_result"
    }
   ],
   "source": [
    "a = 10\n",
    "b = 10\n",
    "id(a), id(b)"
   ],
   "metadata": {
    "collapsed": false,
    "ExecuteTime": {
     "end_time": "2023-10-28T11:05:48.141739400Z",
     "start_time": "2023-10-28T11:05:47.743832400Z"
    }
   },
   "id": "6ffad0cf2de509d2"
  },
  {
   "cell_type": "code",
   "execution_count": 58,
   "outputs": [
    {
     "name": "stdout",
     "output_type": "stream",
     "text": [
      "True\n"
     ]
    }
   ],
   "source": [
    "print(a is b)"
   ],
   "metadata": {
    "collapsed": false,
    "ExecuteTime": {
     "end_time": "2023-10-28T11:05:48.141739400Z",
     "start_time": "2023-10-28T11:05:47.758308600Z"
    }
   },
   "id": "854f6dd31770cc54"
  },
  {
   "cell_type": "code",
   "execution_count": 59,
   "outputs": [
    {
     "name": "stdout",
     "output_type": "stream",
     "text": [
      "True\n"
     ]
    }
   ],
   "source": [
    "print(a == b)"
   ],
   "metadata": {
    "collapsed": false,
    "ExecuteTime": {
     "end_time": "2023-10-28T11:05:48.141739400Z",
     "start_time": "2023-10-28T11:05:47.773320500Z"
    }
   },
   "id": "3944abb7698812b3"
  },
  {
   "cell_type": "code",
   "execution_count": 60,
   "outputs": [
    {
     "data": {
      "text/plain": "(2846050498480, 2846050496688)"
     },
     "execution_count": 60,
     "metadata": {},
     "output_type": "execute_result"
    }
   ],
   "source": [
    "a = 500\n",
    "b = 500\n",
    "id(a), id(b)"
   ],
   "metadata": {
    "collapsed": false,
    "ExecuteTime": {
     "end_time": "2023-10-28T11:05:48.141739400Z",
     "start_time": "2023-10-28T11:05:47.788961200Z"
    }
   },
   "id": "1b8afd986dd5bd62"
  },
  {
   "cell_type": "code",
   "execution_count": 61,
   "outputs": [
    {
     "name": "stdout",
     "output_type": "stream",
     "text": [
      "False\n"
     ]
    }
   ],
   "source": [
    "print(a is b)"
   ],
   "metadata": {
    "collapsed": false,
    "ExecuteTime": {
     "end_time": "2023-10-28T11:05:48.141739400Z",
     "start_time": "2023-10-28T11:05:47.804580300Z"
    }
   },
   "id": "b96e530d6420ae6"
  },
  {
   "cell_type": "code",
   "execution_count": 62,
   "outputs": [
    {
     "name": "stdout",
     "output_type": "stream",
     "text": [
      "True\n"
     ]
    }
   ],
   "source": [
    "print(a == b)"
   ],
   "metadata": {
    "collapsed": false,
    "ExecuteTime": {
     "end_time": "2023-10-28T11:05:48.141739400Z",
     "start_time": "2023-10-28T11:05:47.823984Z"
    }
   },
   "id": "7d5d934678963ac1"
  },
  {
   "cell_type": "code",
   "execution_count": 63,
   "outputs": [
    {
     "name": "stdout",
     "output_type": "stream",
     "text": [
      "False\n",
      "True\n"
     ]
    }
   ],
   "source": [
    "a = 10\n",
    "b = 10.0\n",
    "print(a is b)\n",
    "print(a == b)"
   ],
   "metadata": {
    "collapsed": false,
    "ExecuteTime": {
     "end_time": "2023-10-28T11:05:48.141739400Z",
     "start_time": "2023-10-28T11:05:47.836339800Z"
    }
   },
   "id": "c4c7aaab93b2bafa"
  },
  {
   "cell_type": "code",
   "execution_count": 64,
   "outputs": [
    {
     "data": {
      "text/plain": "140733849384952"
     },
     "execution_count": 64,
     "metadata": {},
     "output_type": "execute_result"
    }
   ],
   "source": [
    "id(None)"
   ],
   "metadata": {
    "collapsed": false,
    "ExecuteTime": {
     "end_time": "2023-10-28T11:05:48.141739400Z",
     "start_time": "2023-10-28T11:05:47.852077600Z"
    }
   },
   "id": "8dbbe453a27e2838"
  },
  {
   "cell_type": "code",
   "execution_count": 65,
   "outputs": [
    {
     "data": {
      "text/plain": "NoneType"
     },
     "execution_count": 65,
     "metadata": {},
     "output_type": "execute_result"
    }
   ],
   "source": [
    "type(None)"
   ],
   "metadata": {
    "collapsed": false,
    "ExecuteTime": {
     "end_time": "2023-10-28T11:05:48.141739400Z",
     "start_time": "2023-10-28T11:05:47.868404400Z"
    }
   },
   "id": "e6cc32d5f1c65930"
  },
  {
   "cell_type": "code",
   "execution_count": 66,
   "outputs": [
    {
     "data": {
      "text/plain": "True"
     },
     "execution_count": 66,
     "metadata": {},
     "output_type": "execute_result"
    }
   ],
   "source": [
    "a = None\n",
    "b = None\n",
    "a is b"
   ],
   "metadata": {
    "collapsed": false,
    "ExecuteTime": {
     "end_time": "2023-10-28T11:05:48.141739400Z",
     "start_time": "2023-10-28T11:05:47.885102800Z"
    }
   },
   "id": "451a66d65317f0a"
  },
  {
   "cell_type": "markdown",
   "source": [
    "## Everything is an Object\n",
    "\n",
    "- All Data types(e.g. Integers, Booleans, Strings, Lists, etc.) and Constructs(e.g. Operators, Functions, Classes, Types, etc.) are all `objects` i.e. instances of classes. Like below:\n",
    "    - Functions (functions)\n",
    "    - Classes (class)\n",
    "    - Types (type)\n",
    "- This means they all have a memory address.\n",
    "- As a consequence: \n",
    "    - Any object can be assigned to a variable including functions...\n",
    "    - Any object can be passed to a function including functions...\n",
    "    - Any object can be returned from a function including functions..."
   ],
   "metadata": {
    "collapsed": false
   },
   "id": "62e6ae1fd189decc"
  },
  {
   "cell_type": "markdown",
   "source": [
    "## Python Optimizations\n",
    "\n",
    "### Interning: Reusing objects on-demand\n",
    "\n",
    "- At startup, Python pre-loads (caches) a global list of integers in the range [-5, 256]. Any time an integer is referenced in that range, Python will use the cached version of that object. The integers in the range [-5, 256] are `Singletons` objects. **Singleton** objects are classes that can only be instantiated once.\n",
    "- This is *Optimization Strategy*: Small integers show up often.\n",
    "- When we write: `a = 10`, Python just has to point to the existing reference for 10. But if we write: `a = 257`, Python does not use that global list and a new object is created every time.\n",
    "\n",
    "### String Interning\n",
    "\n",
    "- Some Strings are also automatically interned—but not all.\n",
    "- As the Python code is compiled, identifiers are interned\n",
    "    - variable names\n",
    "    - function names\n",
    "    - class names\n",
    "    - etc.\n",
    "- Some string literals may also be automatically interned:\n",
    "    - String literals that look like identifiers.\n",
    "    - Although if it starts with a digit, even though that is not a valid identifier, it may still get interned.\n",
    "- Python does it all for (speed and possibly memory) optimization. Python, both internally and in the code you write deals with lots and lots of dictionary type lookups, on string keys, which means a lot of string equality testing.\n",
    "- Consider we want to check if two strings are equal: `a = 'some_long_string', b = 'some_long_string'`. Using `a == b`, compares two strings *character by character*. However, if we know that `some_long_string` has been *interned*, then `a` and `b` are the same string if they both point to the same memory address. Hence we can use `a is b` instead which compares two integers and is much faster than the character by character comparison.\n",
    "- Not all strings are automatically interned by Python, but we can forch strings to be interned by using the `sys.intern()` method.\n",
    "\n",
    "### Peephole\n",
    "\n",
    "- It occurs at compile time.\n",
    "- Constant expressions get pre-calculates and are stored. e.g. `24 * 60`.\n",
    "- Constant expressions of short sequences length < 20 get pre-calculated and stored. e.g. `(1, 2) * 5; 'abc' * 3; 'hello' + ' world'`\n",
    "- Membership Tests: Mutables are replaced by Immutables. When membership tests such as: `if e in [1, 2, 3]:` are encountered, the [1, 2, 3] constant is replaced by its immutable counterpart. e.g. in this case by a tuple: (1, 2, 3).\n",
    "- Set membership is much faster than list or tuple membership. So, instead of writing: `if e in [1, 2, 3]` or `if e in (1, 2, 3)` write: `if e in {1, 2, 3}`"
   ],
   "metadata": {
    "collapsed": false
   },
   "id": "b6baad202902613d"
  },
  {
   "cell_type": "code",
   "execution_count": 67,
   "outputs": [
    {
     "name": "stdout",
     "output_type": "stream",
     "text": [
      "2846047011696 2846047011696\n",
      "True\n",
      "True\n"
     ]
    }
   ],
   "source": [
    "a = 'hello'\n",
    "b = 'hello'\n",
    "print(id(a), id(b))\n",
    "print(a == b)\n",
    "print(a is b)"
   ],
   "metadata": {
    "collapsed": false,
    "ExecuteTime": {
     "end_time": "2023-10-28T11:05:48.141739400Z",
     "start_time": "2023-10-28T11:05:47.900300700Z"
    }
   },
   "id": "16aebd3169933d30"
  },
  {
   "cell_type": "code",
   "execution_count": 68,
   "outputs": [
    {
     "name": "stdout",
     "output_type": "stream",
     "text": [
      "2846051748784 2846051750896\n",
      "True\n",
      "False\n"
     ]
    }
   ],
   "source": [
    "a = 'hello world'\n",
    "b = 'hello world'\n",
    "print(id(a), id(b))\n",
    "print(a == b)\n",
    "print(a is b)"
   ],
   "metadata": {
    "collapsed": false,
    "ExecuteTime": {
     "end_time": "2023-10-28T11:05:48.173340400Z",
     "start_time": "2023-10-28T11:05:47.916208300Z"
    }
   },
   "id": "34ae6eee5614ed3a"
  },
  {
   "cell_type": "code",
   "execution_count": 69,
   "outputs": [
    {
     "name": "stdout",
     "output_type": "stream",
     "text": [
      "2846051731360 2846051731360\n",
      "True\n",
      "True\n"
     ]
    }
   ],
   "source": [
    "a = '_this_is_a_long_string_that_could_be_used_as_an_identifier'\n",
    "b = '_this_is_a_long_string_that_could_be_used_as_an_identifier'\n",
    "print(id(a), id(b))\n",
    "print(a == b)\n",
    "print(a is b)"
   ],
   "metadata": {
    "collapsed": false,
    "ExecuteTime": {
     "end_time": "2023-10-28T11:05:48.362692700Z",
     "start_time": "2023-10-28T11:05:47.931215400Z"
    }
   },
   "id": "35f313f58874f920"
  },
  {
   "cell_type": "code",
   "execution_count": 70,
   "outputs": [
    {
     "name": "stdout",
     "output_type": "stream",
     "text": [
      "2846051755440 2846051755440 2846051755376\n"
     ]
    }
   ],
   "source": [
    "# Force String Intern\n",
    "import sys\n",
    "a = sys.intern('hello world')\n",
    "b = sys.intern('hello world')\n",
    "c = 'hello world'\n",
    "print(id(a), id(b), id(c))"
   ],
   "metadata": {
    "collapsed": false,
    "ExecuteTime": {
     "end_time": "2023-10-28T11:05:48.362692700Z",
     "start_time": "2023-10-28T11:05:47.950776Z"
    }
   },
   "id": "3a122b930fcbbd89"
  },
  {
   "cell_type": "code",
   "execution_count": 71,
   "outputs": [
    {
     "name": "stdout",
     "output_type": "stream",
     "text": [
      "True\n",
      "True\n"
     ]
    }
   ],
   "source": [
    "print(a == b)\n",
    "print(a is b)"
   ],
   "metadata": {
    "collapsed": false,
    "ExecuteTime": {
     "end_time": "2023-10-28T11:05:48.362692700Z",
     "start_time": "2023-10-28T11:05:47.962590600Z"
    }
   },
   "id": "d267579fb7063d02"
  },
  {
   "cell_type": "code",
   "execution_count": 72,
   "outputs": [],
   "source": [
    "def compare_using_equals(n):\n",
    "    a = \"a long string that is not interned\" * 200\n",
    "    b = \"a long string that is not interned\" * 200\n",
    "    for i in range(n):\n",
    "        if a == b:\n",
    "            pass"
   ],
   "metadata": {
    "collapsed": false,
    "ExecuteTime": {
     "end_time": "2023-10-28T11:05:48.378758500Z",
     "start_time": "2023-10-28T11:05:47.978573200Z"
    }
   },
   "id": "485bf1d65f2c4961"
  },
  {
   "cell_type": "code",
   "execution_count": 73,
   "outputs": [],
   "source": [
    "def compare_using_interning(n):\n",
    "    a = sys.intern('a long string that is not interned' * 200)\n",
    "    b = sys.intern('a long string that is not interned' * 200)\n",
    "    for i in range(n):\n",
    "        if a is b:\n",
    "            pass"
   ],
   "metadata": {
    "collapsed": false,
    "ExecuteTime": {
     "end_time": "2023-10-28T11:05:48.394351900Z",
     "start_time": "2023-10-28T11:05:47.994240800Z"
    }
   },
   "id": "122b87b7a8d59021"
  },
  {
   "cell_type": "code",
   "execution_count": 74,
   "outputs": [],
   "source": [
    "import time"
   ],
   "metadata": {
    "collapsed": false,
    "ExecuteTime": {
     "end_time": "2023-10-28T11:05:48.394351900Z",
     "start_time": "2023-10-28T11:05:48.009946300Z"
    }
   },
   "id": "f77a95b250ce8ac5"
  },
  {
   "cell_type": "code",
   "execution_count": 75,
   "outputs": [
    {
     "name": "stdout",
     "output_type": "stream",
     "text": [
      "Time taken for equality check: 1.6368136999662966\n"
     ]
    }
   ],
   "source": [
    "start = time.perf_counter()\n",
    "compare_using_equals(10000000)\n",
    "end = time.perf_counter()\n",
    "print(f\"Time taken for equality check: {end - start}\")"
   ],
   "metadata": {
    "collapsed": false,
    "ExecuteTime": {
     "end_time": "2023-10-28T11:05:49.682323200Z",
     "start_time": "2023-10-28T11:05:48.026899100Z"
    }
   },
   "id": "72886b6d7308604f"
  },
  {
   "cell_type": "code",
   "execution_count": 76,
   "outputs": [
    {
     "name": "stdout",
     "output_type": "stream",
     "text": [
      "Time taken for equality check: 0.15855599998030812\n"
     ]
    }
   ],
   "source": [
    "start = time.perf_counter()\n",
    "compare_using_interning(10000000)\n",
    "end = time.perf_counter()\n",
    "print(f\"Time taken for equality check: {end - start}\")"
   ],
   "metadata": {
    "collapsed": false,
    "ExecuteTime": {
     "end_time": "2023-10-28T11:05:49.870004400Z",
     "start_time": "2023-10-28T11:05:49.674992300Z"
    }
   },
   "id": "ff33ab58f6dbe57f"
  },
  {
   "cell_type": "code",
   "execution_count": 77,
   "outputs": [],
   "source": [
    "def my_func():\n",
    "    a = 24 * 60\n",
    "    b = (1, 2) * 5\n",
    "    c = 'abc' * 3\n",
    "    d = 'ab' * 11\n",
    "    e = 'the quick brown fox' * 5\n",
    "    f = ['a', 'b'] * 3"
   ],
   "metadata": {
    "collapsed": false,
    "ExecuteTime": {
     "end_time": "2023-10-28T11:05:49.870004400Z",
     "start_time": "2023-10-28T11:05:49.853228300Z"
    }
   },
   "id": "e4218f1ae4b373aa"
  },
  {
   "cell_type": "code",
   "execution_count": 78,
   "outputs": [
    {
     "data": {
      "text/plain": "(None,\n 1440,\n (1, 2, 1, 2, 1, 2, 1, 2, 1, 2),\n 'abcabcabc',\n 'ababababababababababab',\n 'the quick brown foxthe quick brown foxthe quick brown foxthe quick brown foxthe quick brown fox',\n 'a',\n 'b',\n 3)"
     },
     "execution_count": 78,
     "metadata": {},
     "output_type": "execute_result"
    }
   ],
   "source": [
    "my_func.__code__.co_consts"
   ],
   "metadata": {
    "collapsed": false,
    "ExecuteTime": {
     "end_time": "2023-10-28T11:05:49.894875500Z",
     "start_time": "2023-10-28T11:05:49.870004400Z"
    }
   },
   "id": "93397b2ccd6f03bd"
  },
  {
   "cell_type": "code",
   "execution_count": 79,
   "outputs": [],
   "source": [
    "def my_func(e):\n",
    "    if e in [1, 2, 3]:\n",
    "        pass"
   ],
   "metadata": {
    "collapsed": false,
    "ExecuteTime": {
     "end_time": "2023-10-28T11:05:49.932779100Z",
     "start_time": "2023-10-28T11:05:49.885807500Z"
    }
   },
   "id": "da0c201eb246108c"
  },
  {
   "cell_type": "code",
   "execution_count": 80,
   "outputs": [
    {
     "data": {
      "text/plain": "(None, (1, 2, 3))"
     },
     "execution_count": 80,
     "metadata": {},
     "output_type": "execute_result"
    }
   ],
   "source": [
    "my_func.__code__.co_consts"
   ],
   "metadata": {
    "collapsed": false,
    "ExecuteTime": {
     "end_time": "2023-10-28T11:05:49.932779100Z",
     "start_time": "2023-10-28T11:05:49.901573700Z"
    }
   },
   "id": "5ad4c4aae469ba4f"
  },
  {
   "cell_type": "code",
   "execution_count": 81,
   "outputs": [
    {
     "name": "stdout",
     "output_type": "stream",
     "text": [
      "Time for list: 1.9330784000339918\n",
      "Time for tuple: 1.9431662999559194\n",
      "Time for set: 0.17709630000172183\n"
     ]
    }
   ],
   "source": [
    "# Set Membership vs List Membership\n",
    "import string\n",
    "import time\n",
    "\n",
    "char_list = list(string.ascii_letters)\n",
    "char_tuple = tuple(string.ascii_letters)\n",
    "char_set = set(string.ascii_letters)\n",
    "\n",
    "def membership_test(n, container):\n",
    "    for i in range(n):\n",
    "        if 'z' in container:\n",
    "            pass\n",
    "        \n",
    "start = time.perf_counter()\n",
    "membership_test(10000000, char_list)\n",
    "end = time.perf_counter()\n",
    "print(f\"Time for list: {end-start}\")\n",
    "\n",
    "start = time.perf_counter()\n",
    "membership_test(10000000, char_tuple)\n",
    "end = time.perf_counter()\n",
    "print(f\"Time for tuple: {end-start}\")\n",
    "\n",
    "start = time.perf_counter()\n",
    "membership_test(10000000, char_set)\n",
    "end = time.perf_counter()\n",
    "print(f\"Time for set: {end-start}\")"
   ],
   "metadata": {
    "collapsed": false,
    "ExecuteTime": {
     "end_time": "2023-10-28T11:05:53.992651700Z",
     "start_time": "2023-10-28T11:05:49.917730100Z"
    }
   },
   "id": "69ae43544427c767"
  },
  {
   "cell_type": "code",
   "execution_count": 81,
   "outputs": [],
   "source": [],
   "metadata": {
    "collapsed": false,
    "ExecuteTime": {
     "end_time": "2023-10-28T11:05:54.008574700Z",
     "start_time": "2023-10-28T11:05:53.992651700Z"
    }
   },
   "id": "4e2c6f879b791a1b"
  }
 ],
 "metadata": {
  "kernelspec": {
   "display_name": "Python 3",
   "language": "python",
   "name": "python3"
  },
  "language_info": {
   "codemirror_mode": {
    "name": "ipython",
    "version": 2
   },
   "file_extension": ".py",
   "mimetype": "text/x-python",
   "name": "python",
   "nbconvert_exporter": "python",
   "pygments_lexer": "ipython2",
   "version": "2.7.6"
  }
 },
 "nbformat": 4,
 "nbformat_minor": 5
}
