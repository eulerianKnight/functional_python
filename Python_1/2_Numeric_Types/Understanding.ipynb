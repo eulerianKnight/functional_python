{
 "cells": [
  {
   "cell_type": "markdown",
   "source": [
    "# Numeric Types\n",
    "\n",
    "- Four main types of numbers:\n",
    "    - Integer Numbers(Z)(`int`)\n",
    "    - Rational Numbers(Q)(`fractions.Fraction`)\n",
    "    - Real Numbers(R)(`float`, `decimal.Decimal`)\n",
    "    - Complex Numbers(C)(`complex`)\n",
    "- Z $\\subset$ Q $\\subset$ R $\\subset$ C\n",
    "- Python also consists of **Boolean Truth Values** (`bool`): 0(`False`), 1(`True`)"
   ],
   "metadata": {
    "collapsed": false
   },
   "id": "d3e819ea8f03afc1"
  },
  {
   "cell_type": "markdown",
   "source": [
    "## Data Types: Integers\n",
    "\n",
    "- The `int` data type.\n",
    "- Integers are represented internally using base-2 (binary) digits, not decimal.\n",
    "- Consider the case for number *19*: `1*16 + 0*8 + 0*4 + 1*2 + 1*1 = 16 + 2 + 1 = 19`. Representing the decimal number 19 requires *5 bits*.\n",
    "- What is the largest (base 10) integer number that can be represented using eight bits? `128 + 64 + 32 + 16 + 8 + 4 + 2 + 1 = 255` = $2^8 - 1$. \n",
    "- If we care about handling negative integers as well, then one bit is reserved to represent the sign of the number, leaving us with only seven bits for the number itself out of the original eight bits. The largest number that can be represented using seven bits is: $2^7 - 1 = 127$. So, using eight bits, we are able to represent all the integers in the range [-127, 127]. Since 0 does not require a sign, we can squeeze out an extra number, and we end up with the range: $[-2^7, 2^7 - 1]$ = [-128, 127].\n",
    "- If we want to use 16 bits to store (signed) integers, the range would be: $2^{(16-1)} = 2^{15} = 32,768: [-32,768....32,767]$\n",
    "- Similarly, for 32 bits to stored (signed) integers, range would be: $[-2,147,483,648...2,147,483,647]$. For an unsigned integer type, using 32 bits our range would be: [0...4,294,967,296]"
   ],
   "metadata": {
    "collapsed": false
   },
   "id": "caa7ea3f9d54af6d"
  },
  {
   "cell_type": "code",
   "execution_count": null,
   "id": "initial_id",
   "metadata": {
    "collapsed": true
   },
   "outputs": [],
   "source": []
  }
 ],
 "metadata": {
  "kernelspec": {
   "display_name": "Python 3",
   "language": "python",
   "name": "python3"
  },
  "language_info": {
   "codemirror_mode": {
    "name": "ipython",
    "version": 2
   },
   "file_extension": ".py",
   "mimetype": "text/x-python",
   "name": "python",
   "nbconvert_exporter": "python",
   "pygments_lexer": "ipython2",
   "version": "2.7.6"
  }
 },
 "nbformat": 4,
 "nbformat_minor": 5
}
