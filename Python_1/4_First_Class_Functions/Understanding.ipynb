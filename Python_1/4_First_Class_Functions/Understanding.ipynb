{
 "cells": [
  {
   "cell_type": "markdown",
   "source": [
    "# First-Class Functions\n",
    "\n",
    "- An object is a first-class object if it has following properties:\n",
    "    - Can be passed to a function as an argument.\n",
    "    - Can be returned from a function.\n",
    "    - Can be assigned to a variable.\n",
    "    - Can be stored in a data-structure (such as list, tuple, dictionary, etc.)\n",
    "- Types such as `int`, `float`, `string`, `tuple`, `list`, etc. are first-class objects.\n",
    "- All functions in Python are first-class objects.\n",
    "- Higher-Order functions are functions that:\n",
    "    - take a function as an argument.\n",
    "    - return a function.\n",
    "\n",
    "## Docstrings and Annotations\n",
    "\n",
    "- We can document our function (and modules, classes, etc.) to display the information about it.\n",
    "- If the first line in the function body is a string (not an assignment, not a comment, just a string by itself), it will be interpreted as a docstring."
   ],
   "metadata": {
    "collapsed": false
   },
   "id": "11c04cb41bc25dda"
  },
  {
   "cell_type": "code",
   "execution_count": null,
   "id": "initial_id",
   "metadata": {
    "collapsed": true
   },
   "outputs": [],
   "source": []
  }
 ],
 "metadata": {
  "kernelspec": {
   "display_name": "Python 3",
   "language": "python",
   "name": "python3"
  },
  "language_info": {
   "codemirror_mode": {
    "name": "ipython",
    "version": 2
   },
   "file_extension": ".py",
   "mimetype": "text/x-python",
   "name": "python",
   "nbconvert_exporter": "python",
   "pygments_lexer": "ipython2",
   "version": "2.7.6"
  }
 },
 "nbformat": 4,
 "nbformat_minor": 5
}
